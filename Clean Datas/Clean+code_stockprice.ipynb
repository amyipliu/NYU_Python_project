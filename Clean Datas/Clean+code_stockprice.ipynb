{
 "cells": [
  {
   "cell_type": "code",
   "execution_count": 35,
   "metadata": {
    "collapsed": true
   },
   "outputs": [],
   "source": [
    "# Import Data\n",
    "import pandas as pd\n",
    "import numpy as np\n",
    "from pandas_datareader import data, wb"
   ]
  },
  {
   "cell_type": "code",
   "execution_count": 78,
   "metadata": {
    "collapsed": false
   },
   "outputs": [
    {
     "name": "stdout",
     "output_type": "stream",
     "text": [
      "        Date   Open   High    Low  Close     Volume Company_ticker  \\\n",
      "0 2017-10-24  26.62  26.70  26.21  26.23  5,339,512           FOXA   \n",
      "1 2017-10-23  27.51  27.57  26.64  26.69  5,644,300           FOXA   \n",
      "2 2017-10-20  27.55  27.64  27.31  27.50  8,879,892           FOXA   \n",
      "3 2017-10-19  27.07  27.41  26.96  27.37  5,743,185           FOXA   \n",
      "4 2017-10-18  26.96  27.39  26.84  27.18  8,363,299           FOXA   \n",
      "\n",
      "  Company_name   Field  \n",
      "0         FOXA  Studio  \n",
      "1         FOXA  Studio  \n",
      "2         FOXA  Studio  \n",
      "3         FOXA  Studio  \n",
      "4         FOXA  Studio  \n",
      "            Date   Open   High    Low  Close      Volume Company_ticker  \\\n",
      "85659 2007-11-16  12.89  13.27  12.35  12.64  28,143,538            AMD   \n",
      "85660 2007-11-15  12.24  12.92  12.16  12.70  22,434,515            AMD   \n",
      "85661 2007-11-14  12.45  12.57  12.22  12.28  16,333,895            AMD   \n",
      "85662 2007-11-13  12.11  12.45  12.01  12.40  14,464,555            AMD   \n",
      "85663 2007-11-12  12.32  12.43  11.92  11.95  17,281,936            AMD   \n",
      "\n",
      "      Company_name   Field  \n",
      "85659          AMD  Gaming  \n",
      "85660          AMD  Gaming  \n",
      "85661          AMD  Gaming  \n",
      "85662          AMD  Gaming  \n",
      "85663          AMD  Gaming  \n"
     ]
    }
   ],
   "source": [
    "# Concat All Compaines\n",
    "\n",
    "def build_stock_df(company_tickers):\n",
    "    columns = ['Date', 'Open', 'High', 'Low', 'Close', 'Volume', 'Company_name', 'Company_ticker', 'Field']\n",
    "    ldfs = []\n",
    "    for (ticker, company_name, field) in zip(company_tickers, company_names, fields):\n",
    "        file_name = ticker + ' Historical Prices.csv'\n",
    "        company_frame = pd.read_csv(file_name, index_col = False, skiprows= [0], parse_dates= ['Date'])\n",
    "        company_frame['Company_ticker'] = ticker\n",
    "        company_frame['Company_name']= company_name\n",
    "        company_frame['Field'] = field\n",
    "        ldfs.append(company_frame)\n",
    "    return(pd.concat(ldfs, ignore_index=True))\n",
    "\n",
    "company_tickers = ['FOXA', 'AMZN', 'AMCX', 'AAL', 'T', 'BOALF', 'BT', 'CBS', 'FUN', 'CCO', 'KO', 'CMCSA', 'DISCA', \\\n",
    "                   'EA', 'FL', 'GLOB', 'GOOGL', 'HSY', 'IMAX', 'K', 'MCD', 'MSFT', 'NFLX', 'NKE', 'NOK', 'PM', 'PHG', 'PTSXQ', 'SEAS', 'SBGI',\\\n",
    "                   'SIX', 'SNE', 'SBUX', 'TGT', 'TWX', 'TSN', 'VZ', 'VIAB', 'NVDA', 'INTC', 'AMD']\n",
    "company_names = ['FOXA', 'AMZN', 'AMCX', 'AAL', 'T', 'BLD', 'BT', 'CBS', 'FUN', 'CCO', 'KO', 'CMCSA', 'DISCA', 'EA', 'FL', 'GLOB', 'GOOGL',\\\n",
    "                 'HSY', 'IMAX', 'K', 'MCD', 'MSFT', 'NFLX', 'NKE', 'NOK', 'PM', 'PHG', 'PTSXQ', 'SEAS', 'SBGI', 'SIX', 'SNE', 'SBUX', 'TGT',\\\n",
    "                 'TWX', 'TSN', 'VZ', 'VIAB', 'NVDA', 'INTC', 'AMD']\n",
    "fields = ['Studio', 'Consumer Product', 'Studio', 'Transportation', 'Telecom Services', 'Construction', 'Telecom Services', 'Media'\\\n",
    "          , 'Parks', 'Media', 'Consumer Product', 'Studio', 'Media', 'Gaming ', 'Consumer Product', 'Information Technology Service',\\\n",
    "          'Internet Content & Information', 'Consumer Product', 'Media ', 'Consumer Product', 'Resort', 'Software - Infrastructure',\\\n",
    "          'Media ', 'Consumer Product', '\\tCommunication Equipment', 'Consumer Product', 'Consumer Product', 'Media', 'Parks', 'Media',\\\n",
    "          'Parks', 'Studio', 'Consumer Product', 'Consumer Product', 'Studio', 'Consumer Product', 'Media ', 'Studio', 'Gaming',\\\n",
    "          'Gaming', 'Gaming']\n",
    "company_stock = build_stock_df(company_tickers)\n",
    "print(company_stock.head())\n",
    "print(company_stock.tail())"
   ]
  },
  {
   "cell_type": "code",
   "execution_count": 76,
   "metadata": {
    "collapsed": false
   },
   "outputs": [
    {
     "name": "stdout",
     "output_type": "stream",
     "text": [
      "<class 'pandas.core.series.Series'>\n"
     ]
    },
    {
     "data": {
      "text/plain": [
       "numpy.float64"
      ]
     },
     "execution_count": 76,
     "metadata": {},
     "output_type": "execute_result"
    }
   ],
   "source": [
    "print(type(company_stock.Volume))\n",
    "type(company_stock.Volume[0])"
   ]
  },
  {
   "cell_type": "code",
   "execution_count": 79,
   "metadata": {
    "collapsed": false,
    "scrolled": true
   },
   "outputs": [
    {
     "data": {
      "text/html": [
       "<div>\n",
       "<table border=\"1\" class=\"dataframe\">\n",
       "  <thead>\n",
       "    <tr style=\"text-align: right;\">\n",
       "      <th></th>\n",
       "      <th>Date</th>\n",
       "      <th>Open</th>\n",
       "      <th>High</th>\n",
       "      <th>Low</th>\n",
       "      <th>Close</th>\n",
       "      <th>Volume</th>\n",
       "      <th>Company_ticker</th>\n",
       "      <th>Company_name</th>\n",
       "      <th>Field</th>\n",
       "    </tr>\n",
       "  </thead>\n",
       "  <tbody>\n",
       "    <tr>\n",
       "      <th>0</th>\n",
       "      <td>2017-10-24</td>\n",
       "      <td>26.62</td>\n",
       "      <td>26.70</td>\n",
       "      <td>26.21</td>\n",
       "      <td>26.23</td>\n",
       "      <td>5339512.0</td>\n",
       "      <td>FOXA</td>\n",
       "      <td>FOXA</td>\n",
       "      <td>Studio</td>\n",
       "    </tr>\n",
       "    <tr>\n",
       "      <th>1</th>\n",
       "      <td>2017-10-23</td>\n",
       "      <td>27.51</td>\n",
       "      <td>27.57</td>\n",
       "      <td>26.64</td>\n",
       "      <td>26.69</td>\n",
       "      <td>5644300.0</td>\n",
       "      <td>FOXA</td>\n",
       "      <td>FOXA</td>\n",
       "      <td>Studio</td>\n",
       "    </tr>\n",
       "    <tr>\n",
       "      <th>2</th>\n",
       "      <td>2017-10-20</td>\n",
       "      <td>27.55</td>\n",
       "      <td>27.64</td>\n",
       "      <td>27.31</td>\n",
       "      <td>27.50</td>\n",
       "      <td>8879892.0</td>\n",
       "      <td>FOXA</td>\n",
       "      <td>FOXA</td>\n",
       "      <td>Studio</td>\n",
       "    </tr>\n",
       "    <tr>\n",
       "      <th>3</th>\n",
       "      <td>2017-10-19</td>\n",
       "      <td>27.07</td>\n",
       "      <td>27.41</td>\n",
       "      <td>26.96</td>\n",
       "      <td>27.37</td>\n",
       "      <td>5743185.0</td>\n",
       "      <td>FOXA</td>\n",
       "      <td>FOXA</td>\n",
       "      <td>Studio</td>\n",
       "    </tr>\n",
       "    <tr>\n",
       "      <th>4</th>\n",
       "      <td>2017-10-18</td>\n",
       "      <td>26.96</td>\n",
       "      <td>27.39</td>\n",
       "      <td>26.84</td>\n",
       "      <td>27.18</td>\n",
       "      <td>8363299.0</td>\n",
       "      <td>FOXA</td>\n",
       "      <td>FOXA</td>\n",
       "      <td>Studio</td>\n",
       "    </tr>\n",
       "  </tbody>\n",
       "</table>\n",
       "</div>"
      ],
      "text/plain": [
       "        Date   Open   High    Low  Close     Volume Company_ticker  \\\n",
       "0 2017-10-24  26.62  26.70  26.21  26.23  5339512.0           FOXA   \n",
       "1 2017-10-23  27.51  27.57  26.64  26.69  5644300.0           FOXA   \n",
       "2 2017-10-20  27.55  27.64  27.31  27.50  8879892.0           FOXA   \n",
       "3 2017-10-19  27.07  27.41  26.96  27.37  5743185.0           FOXA   \n",
       "4 2017-10-18  26.96  27.39  26.84  27.18  8363299.0           FOXA   \n",
       "\n",
       "  Company_name   Field  \n",
       "0         FOXA  Studio  \n",
       "1         FOXA  Studio  \n",
       "2         FOXA  Studio  \n",
       "3         FOXA  Studio  \n",
       "4         FOXA  Studio  "
      ]
     },
     "execution_count": 79,
     "metadata": {},
     "output_type": "execute_result"
    }
   ],
   "source": [
    "\n",
    "#company_stock['Volume1'] = pd.to_numeric(company_stock.Volume, errors='ignore')\n",
    "\n",
    "company_stock[\"Volume\"] = company_stock.Volume.apply(lambda x: float(x.replace(\"�\", \"0\").replace(\",\",\"\").replace('???','0')))\n",
    "\n",
    "company_stock.head()"
   ]
  },
  {
   "cell_type": "code",
   "execution_count": 73,
   "metadata": {
    "collapsed": false
   },
   "outputs": [
    {
     "data": {
      "text/plain": [
       "Date              datetime64[ns]\n",
       "Open                     float64\n",
       "High                     float64\n",
       "Low                      float64\n",
       "Close                    float64\n",
       "Volume                    object\n",
       "Company_ticker            object\n",
       "Company_name              object\n",
       "Field                     object\n",
       "Volumn                   float64\n",
       "dtype: object"
      ]
     },
     "execution_count": 73,
     "metadata": {},
     "output_type": "execute_result"
    }
   ],
   "source": [
    "#Double check the data type\n",
    "company_stock.dtypes"
   ]
  },
  {
   "cell_type": "code",
   "execution_count": 60,
   "metadata": {
    "collapsed": false
   },
   "outputs": [
    {
     "data": {
      "text/plain": [
       "pandas.core.frame.DataFrame"
      ]
     },
     "execution_count": 60,
     "metadata": {},
     "output_type": "execute_result"
    }
   ],
   "source": [
    "type(company_stock)"
   ]
  },
  {
   "cell_type": "code",
   "execution_count": 82,
   "metadata": {
    "collapsed": false,
    "scrolled": true
   },
   "outputs": [],
   "source": [
    "company_stock.to_csv('company_stock.csv', index= False)"
   ]
  }
 ],
 "metadata": {
  "kernelspec": {
   "display_name": "Python 3",
   "language": "python",
   "name": "python3"
  },
  "language_info": {
   "codemirror_mode": {
    "name": "ipython",
    "version": 3
   },
   "file_extension": ".py",
   "mimetype": "text/x-python",
   "name": "python",
   "nbconvert_exporter": "python",
   "pygments_lexer": "ipython3",
   "version": "3.6.0"
  }
 },
 "nbformat": 4,
 "nbformat_minor": 2
}
