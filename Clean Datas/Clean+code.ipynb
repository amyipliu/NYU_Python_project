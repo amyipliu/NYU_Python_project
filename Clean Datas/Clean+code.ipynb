{
 "cells": [
  {
   "cell_type": "code",
   "execution_count": 87,
   "metadata": {
    "collapsed": true
   },
   "outputs": [],
   "source": [
    "# Import Data\n",
    "import pandas as pd\n",
    "import numpy as np\n",
    "from pandas_datareader import data, wb"
   ]
  },
  {
   "cell_type": "code",
   "execution_count": 88,
   "metadata": {
    "collapsed": false
   },
   "outputs": [
    {
     "name": "stdout",
     "output_type": "stream",
     "text": [
      "        Date   Open   High    Low  Close     Volume Company_ticker  \\\n",
      "0 2017-10-24  26.62  26.70  26.21  26.23  5,339,512           FOXA   \n",
      "1 2017-10-23  27.51  27.57  26.64  26.69  5,644,300           FOXA   \n",
      "2 2017-10-20  27.55  27.64  27.31  27.50  8,879,892           FOXA   \n",
      "3 2017-10-19  27.07  27.41  26.96  27.37  5,743,185           FOXA   \n",
      "4 2017-10-18  26.96  27.39  26.84  27.18  8,363,299           FOXA   \n",
      "\n",
      "       Company_name   Field  \n",
      "0  21st Century Fox  Studio  \n",
      "1  21st Century Fox  Studio  \n",
      "2  21st Century Fox  Studio  \n",
      "3  21st Century Fox  Studio  \n",
      "4  21st Century Fox  Studio  \n",
      "            Date    Open    High     Low   Close      Volume Company_ticker  \\\n",
      "85664 2017-11-13  104.14  105.14  103.98  104.74   7,856,012            DIS   \n",
      "85665 2017-11-10  104.99  106.24  104.08  104.78  16,701,518            DIS   \n",
      "85666 2017-11-09  100.83  103.91  100.80  102.68  13,172,478            DIS   \n",
      "85667 2017-11-08  101.88  102.00  100.42  101.18   8,023,234            DIS   \n",
      "85668 2017-11-07  101.29  102.90  100.74  101.61  12,177,479            DIS   \n",
      "\n",
      "      Company_name   Field  \n",
      "85664       Disney  Disney  \n",
      "85665       Disney  Disney  \n",
      "85666       Disney  Disney  \n",
      "85667       Disney  Disney  \n",
      "85668       Disney  Disney  \n"
     ]
    }
   ],
   "source": [
    "# Concat All Compaines\n",
    "\n",
    "def build_stock_df(company_tickers):\n",
    "    columns = ['Date', 'Open', 'High', 'Low', 'Close', 'Volume', 'Company_name', 'Company_ticker', 'Field']\n",
    "    ldfs = []\n",
    "    for (ticker, company_name, field) in zip(company_tickers, company_names, fields):\n",
    "        file_name = ticker + ' Historical Prices.csv'\n",
    "        company_frame = pd.read_csv(file_name, index_col = False, skiprows= [0], parse_dates= ['Date'])\n",
    "        company_frame['Company_ticker'] = ticker\n",
    "        company_frame['Company_name']= company_name\n",
    "        company_frame['Field'] = field\n",
    "        ldfs.append(company_frame)\n",
    "    return(pd.concat(ldfs, ignore_index=True))\n",
    "\n",
    "company_tickers = ['FOXA', 'AMZN', 'AMCX', 'AAL', 'T', 'BOALF', 'BT', 'CBS', 'FUN', 'CCO', 'KO', 'CMCSA', 'DISCA', \\\n",
    "                   'EA', 'FL', 'GLOB', 'GOOGL', 'HSY', 'IMAX', 'K', 'MCD', 'MSFT', 'NFLX', 'NKE', 'NOK', 'PM', 'PHG', 'PTSXQ', 'SEAS', 'SBGI',\\\n",
    "                   'SIX', 'SNE', 'SBUX', 'TGT', 'TWX', 'TSN', 'VZ', 'VIAB', 'NVDA', 'INTC', 'AMD', 'DIS']\n",
    "company_names = ['21st Century Fox', 'Amazon', 'AMC Networks Inc ', 'America Airline', 'AT&T', 'Boral Ltd', 'BT Group', 'CBS ', 'Cedar Fair Entertainment Company', \\\n",
    "                 'Clear Channel Outdoor Holdings Inc', 'Coca-Cola', 'Comcast', 'Discovery Communications Inc ', 'Electronic Arts Inc', \\\n",
    "                 'Footlocker', 'Globant', 'Google', 'Hershey ', 'Imax Corp ', 'Kelloggs', \"McDonald's\", 'Microsoft', 'Netflix', 'Nike', \\\n",
    "                 'Nokia', 'Philip Morris', 'Philips_NV_ADR', 'Point.360', 'SeaWorld Parks & Entertainment', 'Sinclair Broadcast Group Inc', \\\n",
    "                 'Six Flags Entertainment Corporation', 'Sony', 'Starbucks', 'Target', 'Time Warner', 'Tyson Foods', 'Verizon ', 'Viacom', \\\n",
    "                 'Nvidia', 'Intel', 'AMD', 'Disney']\n",
    "fields = ['Studio', 'Consumer Product', 'Studio', 'Transportation', 'Telecom Services', 'Construction', 'Telecom Services', 'Media'\\\n",
    "          , 'Parks', 'Media', 'Consumer Product', 'Studio', 'Media', 'Gaming ', 'Consumer Product', 'Information Technology Service',\\\n",
    "          'Internet Content & Information', 'Consumer Product', 'Media ', 'Consumer Product', 'Resort', 'Software - Infrastructure',\\\n",
    "          'Media ', 'Consumer Product', '\\tCommunication Equipment', 'Consumer Product', 'Consumer Product', 'Media', 'Parks', 'Media',\\\n",
    "          'Parks', 'Studio', 'Consumer Product', 'Consumer Product', 'Studio', 'Consumer Product', 'Media ', 'Studio', 'Gaming',\\\n",
    "          'Gaming', 'Gaming', 'Disney']\n",
    "company_stock = build_stock_df(company_tickers)\n",
    "print(company_stock.head())\n",
    "print(company_stock.tail())"
   ]
  },
  {
   "cell_type": "code",
   "execution_count": 89,
   "metadata": {
    "collapsed": false
   },
   "outputs": [
    {
     "name": "stdout",
     "output_type": "stream",
     "text": [
      "<class 'pandas.core.series.Series'>\n"
     ]
    },
    {
     "data": {
      "text/plain": [
       "str"
      ]
     },
     "execution_count": 89,
     "metadata": {},
     "output_type": "execute_result"
    }
   ],
   "source": [
    "print(type(company_stock.Volume))\n",
    "type(company_stock.Volume[0])"
   ]
  },
  {
   "cell_type": "code",
   "execution_count": 90,
   "metadata": {
    "collapsed": false,
    "scrolled": true
   },
   "outputs": [
    {
     "data": {
      "text/html": [
       "<div>\n",
       "<table border=\"1\" class=\"dataframe\">\n",
       "  <thead>\n",
       "    <tr style=\"text-align: right;\">\n",
       "      <th></th>\n",
       "      <th>Date</th>\n",
       "      <th>Open</th>\n",
       "      <th>High</th>\n",
       "      <th>Low</th>\n",
       "      <th>Close</th>\n",
       "      <th>Volume</th>\n",
       "      <th>Company_ticker</th>\n",
       "      <th>Company_name</th>\n",
       "      <th>Field</th>\n",
       "    </tr>\n",
       "  </thead>\n",
       "  <tbody>\n",
       "    <tr>\n",
       "      <th>0</th>\n",
       "      <td>2017-10-24</td>\n",
       "      <td>26.62</td>\n",
       "      <td>26.70</td>\n",
       "      <td>26.21</td>\n",
       "      <td>26.23</td>\n",
       "      <td>5339512.0</td>\n",
       "      <td>FOXA</td>\n",
       "      <td>21st Century Fox</td>\n",
       "      <td>Studio</td>\n",
       "    </tr>\n",
       "    <tr>\n",
       "      <th>1</th>\n",
       "      <td>2017-10-23</td>\n",
       "      <td>27.51</td>\n",
       "      <td>27.57</td>\n",
       "      <td>26.64</td>\n",
       "      <td>26.69</td>\n",
       "      <td>5644300.0</td>\n",
       "      <td>FOXA</td>\n",
       "      <td>21st Century Fox</td>\n",
       "      <td>Studio</td>\n",
       "    </tr>\n",
       "    <tr>\n",
       "      <th>2</th>\n",
       "      <td>2017-10-20</td>\n",
       "      <td>27.55</td>\n",
       "      <td>27.64</td>\n",
       "      <td>27.31</td>\n",
       "      <td>27.50</td>\n",
       "      <td>8879892.0</td>\n",
       "      <td>FOXA</td>\n",
       "      <td>21st Century Fox</td>\n",
       "      <td>Studio</td>\n",
       "    </tr>\n",
       "    <tr>\n",
       "      <th>3</th>\n",
       "      <td>2017-10-19</td>\n",
       "      <td>27.07</td>\n",
       "      <td>27.41</td>\n",
       "      <td>26.96</td>\n",
       "      <td>27.37</td>\n",
       "      <td>5743185.0</td>\n",
       "      <td>FOXA</td>\n",
       "      <td>21st Century Fox</td>\n",
       "      <td>Studio</td>\n",
       "    </tr>\n",
       "    <tr>\n",
       "      <th>4</th>\n",
       "      <td>2017-10-18</td>\n",
       "      <td>26.96</td>\n",
       "      <td>27.39</td>\n",
       "      <td>26.84</td>\n",
       "      <td>27.18</td>\n",
       "      <td>8363299.0</td>\n",
       "      <td>FOXA</td>\n",
       "      <td>21st Century Fox</td>\n",
       "      <td>Studio</td>\n",
       "    </tr>\n",
       "  </tbody>\n",
       "</table>\n",
       "</div>"
      ],
      "text/plain": [
       "        Date   Open   High    Low  Close     Volume Company_ticker  \\\n",
       "0 2017-10-24  26.62  26.70  26.21  26.23  5339512.0           FOXA   \n",
       "1 2017-10-23  27.51  27.57  26.64  26.69  5644300.0           FOXA   \n",
       "2 2017-10-20  27.55  27.64  27.31  27.50  8879892.0           FOXA   \n",
       "3 2017-10-19  27.07  27.41  26.96  27.37  5743185.0           FOXA   \n",
       "4 2017-10-18  26.96  27.39  26.84  27.18  8363299.0           FOXA   \n",
       "\n",
       "       Company_name   Field  \n",
       "0  21st Century Fox  Studio  \n",
       "1  21st Century Fox  Studio  \n",
       "2  21st Century Fox  Studio  \n",
       "3  21st Century Fox  Studio  \n",
       "4  21st Century Fox  Studio  "
      ]
     },
     "execution_count": 90,
     "metadata": {},
     "output_type": "execute_result"
    }
   ],
   "source": [
    "\n",
    "#company_stock['Volume1'] = pd.to_numeric(company_stock.Volume, errors='ignore')\n",
    "\n",
    "company_stock[\"Volume\"] = company_stock.Volume.apply(lambda x: float(x.replace(\"�\", \"0\").replace(\",\",\"\").replace('???','0')))\n",
    "\n",
    "company_stock.head()"
   ]
  },
  {
   "cell_type": "code",
   "execution_count": 91,
   "metadata": {
    "collapsed": false
   },
   "outputs": [],
   "source": [
    "#Check volumn = 0\n",
    "ab = company_stock[(company_stock.Volume == 0)]"
   ]
  },
  {
   "cell_type": "code",
   "execution_count": 92,
   "metadata": {
    "collapsed": false
   },
   "outputs": [
    {
     "data": {
      "text/plain": [
       "Date              datetime64[ns]\n",
       "Open                     float64\n",
       "High                     float64\n",
       "Low                      float64\n",
       "Close                    float64\n",
       "Volume                   float64\n",
       "Company_ticker            object\n",
       "Company_name              object\n",
       "Field                     object\n",
       "dtype: object"
      ]
     },
     "execution_count": 92,
     "metadata": {},
     "output_type": "execute_result"
    }
   ],
   "source": [
    "#Double check the data type\n",
    "company_stock.dtypes"
   ]
  },
  {
   "cell_type": "code",
   "execution_count": 94,
   "metadata": {
    "collapsed": false,
    "scrolled": true
   },
   "outputs": [],
   "source": [
    "company_stock.to_csv('company_stock.csv', index= False)"
   ]
  }
 ],
 "metadata": {
  "kernelspec": {
   "display_name": "Python 3",
   "language": "python",
   "name": "python3"
  },
  "language_info": {
   "codemirror_mode": {
    "name": "ipython",
    "version": 3
   },
   "file_extension": ".py",
   "mimetype": "text/x-python",
   "name": "python",
   "nbconvert_exporter": "python",
   "pygments_lexer": "ipython3",
   "version": "3.6.0"
  }
 },
 "nbformat": 4,
 "nbformat_minor": 2
}
