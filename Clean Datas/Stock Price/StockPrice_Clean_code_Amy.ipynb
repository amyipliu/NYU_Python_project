{
 "cells": [
  {
   "cell_type": "code",
   "execution_count": 12,
   "metadata": {},
   "outputs": [],
   "source": [
    "# Import Data\n",
    "import pandas as pd\n",
    "import numpy as np\n",
    "from pandas_datareader import data, wb"
   ]
  },
  {
   "cell_type": "code",
   "execution_count": 20,
   "metadata": {},
   "outputs": [
    {
     "name": "stdout",
     "output_type": "stream",
     "text": [
      "        Date   Open   High    Low  Close     Volume Company_ticker  \\\n",
      "0 2017-10-24  26.62  26.70  26.21  26.23  5,339,512           FOXA   \n",
      "1 2017-10-23  27.51  27.57  26.64  26.69  5,644,300           FOXA   \n",
      "2 2017-10-20  27.55  27.64  27.31  27.50  8,879,892           FOXA   \n",
      "3 2017-10-19  27.07  27.41  26.96  27.37  5,743,185           FOXA   \n",
      "4 2017-10-18  26.96  27.39  26.84  27.18  8,363,299           FOXA   \n",
      "\n",
      "       Company_name   Field          Dis_category  \n",
      "0  21st Century Fox  Studio  Studio Entertainment  \n",
      "1  21st Century Fox  Studio  Studio Entertainment  \n",
      "2  21st Century Fox  Studio  Studio Entertainment  \n",
      "3  21st Century Fox  Studio  Studio Entertainment  \n",
      "4  21st Century Fox  Studio  Studio Entertainment  \n"
     ]
    }
   ],
   "source": [
    "# Concat All Compaines\n",
    "\n",
    "def build_stock_df(company_tickers):\n",
    "    columns = ['Date', 'Open', 'High', 'Low', 'Close', 'Volume', 'Company_name', 'Company_ticker', 'Field', 'Dis_dep']\n",
    "    ldfs = []\n",
    "    for (ticker, company_name, field, dis_dep) in zip(company_tickers, company_names, fields, dis_deps):\n",
    "        file_name = ticker + ' Historical Prices.csv'\n",
    "        company_frame = pd.read_csv(file_name, index_col = False, skiprows= [0], parse_dates= ['Date'])\n",
    "        company_frame['Company_ticker'] = ticker\n",
    "        company_frame['Company_name']= company_name\n",
    "        company_frame['Field'] = field\n",
    "        company_frame['Dis_category'] = dis_dep\n",
    "        ldfs.append(company_frame)\n",
    "    return(pd.concat(ldfs, ignore_index=True))\n",
    "\n",
    "company_tickers = ['FOXA', 'AMZN', 'AMCX', 'AAL', 'T', 'BOALF', 'BT', 'CBS', 'FUN', 'CCO', 'KO', 'CMCSA', 'DISCA', \\\n",
    "                   'EA', 'FL', 'GLOB', 'GOOGL', 'HSY', 'IMAX', 'K', 'MCD', 'MSFT', 'NFLX', 'NKE', 'NOK', 'PM', 'PHG', 'PTSXQ', 'SEAS', 'SBGI',\\\n",
    "                   'SIX', 'SNE', 'SBUX', 'TGT', 'TWX', 'TSN', 'VZ', 'VIAB', 'NVDA', 'INTC', 'AMD', 'DIS']\n",
    "company_names = ['21st Century Fox', 'Amazon', 'AMC Networks Inc ', 'America Airline', 'AT&T', 'Boral Ltd', 'BT Group', 'CBS ', 'Cedar Fair Entertainment Company', \\\n",
    "                 'Clear Channel Outdoor Holdings Inc', 'Coca-Cola', 'Comcast', 'Discovery Communications Inc ', 'Electronic Arts Inc', \\\n",
    "                 'Footlocker', 'Globant', 'Google', 'Hershey ', 'Imax Corp ', 'Kelloggs', \"McDonald's\", 'Microsoft', 'Netflix', 'Nike', \\\n",
    "                 'Nokia', 'Philip Morris', 'Philips_NV_ADR', 'Point.360', 'SeaWorld Parks & Entertainment', 'Sinclair Broadcast Group Inc', \\\n",
    "                 'Six Flags Entertainment Corporation', 'Sony', 'Starbucks', 'Target', 'Time Warner', 'Tyson Foods', 'Verizon ', 'Viacom', \\\n",
    "                 'Nvidia', 'Intel', 'AMD', 'Disney']\n",
    "fields = ['Studio', 'Consumer Product', 'Studio', 'Transportation', 'Telecom Services', 'Construction', 'Telecom Services', 'Media'\\\n",
    "          , 'Parks', 'Media', 'Consumer Product', 'Studio', 'Media', 'Gaming', 'Consumer Product', 'Information Technology Service',\\\n",
    "          'Internet Content & Information', 'Consumer Product', 'Media ', 'Consumer Product', 'Resort', 'Software - Infrastructure',\\\n",
    "          'Media', 'Consumer Product', 'Communication Equipment', 'Consumer Product', 'Consumer Product', 'Media', 'Parks', 'Media',\\\n",
    "          'Parks', 'Studio', 'Consumer Product', 'Consumer Product', 'Studio', 'Consumer Product', 'Media', 'Studio', 'Gaming',\\\n",
    "          'Gaming', 'Gaming', 'Disney']\n",
    "dis_deps = ['Studio Entertainment', 'Consumer Products & Interactive Media', 'Studio Entertainment', 'Parks and Resorts',\\\n",
    "           'Media Networks', 'Parks and Resorts', 'Media Networks', 'Media Networks', 'Parks and Resorts', 'Media Networks',\\\n",
    "           'Consumer Products & Interactive Media', 'Studio Entertainment', 'Media Networks', \\\n",
    "           'Consumer Products & Interactive Media', 'Consumer Products & Interactive Media', 'Media Networks', 'Media Networks',\\\n",
    "           'Consumer Products & Interactive Media', 'Media Networks', 'Consumer Products & Interactive Media',\\\n",
    "           'Parks and Resorts', 'Media Networks', 'Media Networks', 'Consumer Products & Interactive Media',\\\n",
    "           'Consumer Products & Interactive Media', 'Consumer Products & Interactive Media', \\\n",
    "           'Consumer Products & Interactive Media', 'Media Networks', 'Parks and Resorts', 'Media Networks',\\\n",
    "           'Parks and Resorts', 'Studio Entertainment', 'Consumer Products & Interactive Media',\\\n",
    "           'Consumer Products & Interactive Media', 'Studio Entertainment', 'Consumer Products & Interactive Media',\\\n",
    "           'Media Networks', 'Studio Entertainment', 'Consumer Products & Interactive Media',\\\n",
    "           'Consumer Products & Interactive Media', 'Consumer Products & Interactive Media', 'Disney']\n",
    "company_stock = build_stock_df(company_tickers)\n",
    "print(company_stock.head())\n",
    "#print(company_stock.tail())"
   ]
  },
  {
   "cell_type": "code",
   "execution_count": 3,
   "metadata": {},
   "outputs": [],
   "source": [
    "# Checking data type\n",
    "# print(type(company_stock.Volume))\n",
    "# type(company_stock.Volume[0])"
   ]
  },
  {
   "cell_type": "code",
   "execution_count": 21,
   "metadata": {
    "scrolled": true
   },
   "outputs": [
    {
     "data": {
      "text/html": [
       "<div>\n",
       "<table border=\"1\" class=\"dataframe\">\n",
       "  <thead>\n",
       "    <tr style=\"text-align: right;\">\n",
       "      <th></th>\n",
       "      <th>Date</th>\n",
       "      <th>Open</th>\n",
       "      <th>High</th>\n",
       "      <th>Low</th>\n",
       "      <th>Close</th>\n",
       "      <th>Volume</th>\n",
       "      <th>Company_ticker</th>\n",
       "      <th>Company_name</th>\n",
       "      <th>Field</th>\n",
       "      <th>Dis_category</th>\n",
       "    </tr>\n",
       "  </thead>\n",
       "  <tbody>\n",
       "    <tr>\n",
       "      <th>0</th>\n",
       "      <td>2017-10-24</td>\n",
       "      <td>26.62</td>\n",
       "      <td>26.70</td>\n",
       "      <td>26.21</td>\n",
       "      <td>26.23</td>\n",
       "      <td>5339512.0</td>\n",
       "      <td>FOXA</td>\n",
       "      <td>21st Century Fox</td>\n",
       "      <td>Studio</td>\n",
       "      <td>Studio Entertainment</td>\n",
       "    </tr>\n",
       "    <tr>\n",
       "      <th>1</th>\n",
       "      <td>2017-10-23</td>\n",
       "      <td>27.51</td>\n",
       "      <td>27.57</td>\n",
       "      <td>26.64</td>\n",
       "      <td>26.69</td>\n",
       "      <td>5644300.0</td>\n",
       "      <td>FOXA</td>\n",
       "      <td>21st Century Fox</td>\n",
       "      <td>Studio</td>\n",
       "      <td>Studio Entertainment</td>\n",
       "    </tr>\n",
       "    <tr>\n",
       "      <th>2</th>\n",
       "      <td>2017-10-20</td>\n",
       "      <td>27.55</td>\n",
       "      <td>27.64</td>\n",
       "      <td>27.31</td>\n",
       "      <td>27.50</td>\n",
       "      <td>8879892.0</td>\n",
       "      <td>FOXA</td>\n",
       "      <td>21st Century Fox</td>\n",
       "      <td>Studio</td>\n",
       "      <td>Studio Entertainment</td>\n",
       "    </tr>\n",
       "    <tr>\n",
       "      <th>3</th>\n",
       "      <td>2017-10-19</td>\n",
       "      <td>27.07</td>\n",
       "      <td>27.41</td>\n",
       "      <td>26.96</td>\n",
       "      <td>27.37</td>\n",
       "      <td>5743185.0</td>\n",
       "      <td>FOXA</td>\n",
       "      <td>21st Century Fox</td>\n",
       "      <td>Studio</td>\n",
       "      <td>Studio Entertainment</td>\n",
       "    </tr>\n",
       "    <tr>\n",
       "      <th>4</th>\n",
       "      <td>2017-10-18</td>\n",
       "      <td>26.96</td>\n",
       "      <td>27.39</td>\n",
       "      <td>26.84</td>\n",
       "      <td>27.18</td>\n",
       "      <td>8363299.0</td>\n",
       "      <td>FOXA</td>\n",
       "      <td>21st Century Fox</td>\n",
       "      <td>Studio</td>\n",
       "      <td>Studio Entertainment</td>\n",
       "    </tr>\n",
       "  </tbody>\n",
       "</table>\n",
       "</div>"
      ],
      "text/plain": [
       "        Date   Open   High    Low  Close     Volume Company_ticker  \\\n",
       "0 2017-10-24  26.62  26.70  26.21  26.23  5339512.0           FOXA   \n",
       "1 2017-10-23  27.51  27.57  26.64  26.69  5644300.0           FOXA   \n",
       "2 2017-10-20  27.55  27.64  27.31  27.50  8879892.0           FOXA   \n",
       "3 2017-10-19  27.07  27.41  26.96  27.37  5743185.0           FOXA   \n",
       "4 2017-10-18  26.96  27.39  26.84  27.18  8363299.0           FOXA   \n",
       "\n",
       "       Company_name   Field          Dis_category  \n",
       "0  21st Century Fox  Studio  Studio Entertainment  \n",
       "1  21st Century Fox  Studio  Studio Entertainment  \n",
       "2  21st Century Fox  Studio  Studio Entertainment  \n",
       "3  21st Century Fox  Studio  Studio Entertainment  \n",
       "4  21st Century Fox  Studio  Studio Entertainment  "
      ]
     },
     "execution_count": 21,
     "metadata": {},
     "output_type": "execute_result"
    }
   ],
   "source": [
    "\n",
    "company_stock[\"Volume\"] = company_stock.Volume.apply(lambda x: float(x.replace(\"�\", \"0\").replace(\",\",\"\").replace('???','0')))\n",
    "\n",
    "company_stock.head()"
   ]
  },
  {
   "cell_type": "code",
   "execution_count": 40,
   "metadata": {},
   "outputs": [
    {
     "data": {
      "text/html": [
       "<div>\n",
       "<table border=\"1\" class=\"dataframe\">\n",
       "  <thead>\n",
       "    <tr style=\"text-align: right;\">\n",
       "      <th></th>\n",
       "      <th>Date</th>\n",
       "      <th>Open</th>\n",
       "      <th>High</th>\n",
       "      <th>Low</th>\n",
       "      <th>Close</th>\n",
       "      <th>Volume</th>\n",
       "      <th>Company_ticker</th>\n",
       "      <th>Company_name</th>\n",
       "      <th>Field</th>\n",
       "      <th>Dis_category</th>\n",
       "    </tr>\n",
       "  </thead>\n",
       "  <tbody>\n",
       "    <tr>\n",
       "      <th>0</th>\n",
       "      <td>2017-10-24</td>\n",
       "      <td>26.62</td>\n",
       "      <td>26.70</td>\n",
       "      <td>26.21</td>\n",
       "      <td>26.23</td>\n",
       "      <td>5339512.0</td>\n",
       "      <td>FOXA</td>\n",
       "      <td>Company_name</td>\n",
       "      <td>Field</td>\n",
       "      <td>Dis_category</td>\n",
       "    </tr>\n",
       "    <tr>\n",
       "      <th>1</th>\n",
       "      <td>2017-10-23</td>\n",
       "      <td>27.51</td>\n",
       "      <td>27.57</td>\n",
       "      <td>26.64</td>\n",
       "      <td>26.69</td>\n",
       "      <td>5644300.0</td>\n",
       "      <td>FOXA</td>\n",
       "      <td>Company_name</td>\n",
       "      <td>Field</td>\n",
       "      <td>Dis_category</td>\n",
       "    </tr>\n",
       "    <tr>\n",
       "      <th>2</th>\n",
       "      <td>2017-10-20</td>\n",
       "      <td>27.55</td>\n",
       "      <td>27.64</td>\n",
       "      <td>27.31</td>\n",
       "      <td>27.50</td>\n",
       "      <td>8879892.0</td>\n",
       "      <td>FOXA</td>\n",
       "      <td>Company_name</td>\n",
       "      <td>Field</td>\n",
       "      <td>Dis_category</td>\n",
       "    </tr>\n",
       "    <tr>\n",
       "      <th>3</th>\n",
       "      <td>2017-10-19</td>\n",
       "      <td>27.07</td>\n",
       "      <td>27.41</td>\n",
       "      <td>26.96</td>\n",
       "      <td>27.37</td>\n",
       "      <td>5743185.0</td>\n",
       "      <td>FOXA</td>\n",
       "      <td>Company_name</td>\n",
       "      <td>Field</td>\n",
       "      <td>Dis_category</td>\n",
       "    </tr>\n",
       "    <tr>\n",
       "      <th>4</th>\n",
       "      <td>2017-10-18</td>\n",
       "      <td>26.96</td>\n",
       "      <td>27.39</td>\n",
       "      <td>26.84</td>\n",
       "      <td>27.18</td>\n",
       "      <td>8363299.0</td>\n",
       "      <td>FOXA</td>\n",
       "      <td>Company_name</td>\n",
       "      <td>Field</td>\n",
       "      <td>Dis_category</td>\n",
       "    </tr>\n",
       "  </tbody>\n",
       "</table>\n",
       "</div>"
      ],
      "text/plain": [
       "        Date   Open   High    Low  Close     Volume Company_ticker  \\\n",
       "0 2017-10-24  26.62  26.70  26.21  26.23  5339512.0           FOXA   \n",
       "1 2017-10-23  27.51  27.57  26.64  26.69  5644300.0           FOXA   \n",
       "2 2017-10-20  27.55  27.64  27.31  27.50  8879892.0           FOXA   \n",
       "3 2017-10-19  27.07  27.41  26.96  27.37  5743185.0           FOXA   \n",
       "4 2017-10-18  26.96  27.39  26.84  27.18  8363299.0           FOXA   \n",
       "\n",
       "   Company_name  Field  Dis_category  \n",
       "0  Company_name  Field  Dis_category  \n",
       "1  Company_name  Field  Dis_category  \n",
       "2  Company_name  Field  Dis_category  \n",
       "3  Company_name  Field  Dis_category  \n",
       "4  Company_name  Field  Dis_category  "
      ]
     },
     "execution_count": 40,
     "metadata": {},
     "output_type": "execute_result"
    }
   ],
   "source": [
    "# Replace white space with _\n",
    "company_stock.iloc[:, 7:] = [x.strip().replace(' ', '_') for x in company_stock.iloc[:, 7:]]\n",
    "#company_stock.iloc[:, 7:] = company_stock.iloc[:, 7:].apply(lambda x: x.str.strip()).replace('\\s+', '_')\n",
    "# df.replace('\\s+', '_',regex=True,inplace=True)\n",
    "# pd.DataFrame(data = a)\n",
    "#pd.DataFrame(data = c)\n",
    "company_stock.head()"
   ]
  },
  {
   "cell_type": "code",
   "execution_count": 46,
   "metadata": {},
   "outputs": [
    {
     "data": {
      "text/plain": [
       "(3797, 10)"
      ]
     },
     "execution_count": 46,
     "metadata": {},
     "output_type": "execute_result"
    }
   ],
   "source": [
    "#Check volumn = 0\n",
    "company_stock[(company_stock.Volume == 0)].shape"
   ]
  },
  {
   "cell_type": "code",
   "execution_count": 47,
   "metadata": {
    "scrolled": true
   },
   "outputs": [],
   "source": [
    "company_stock.to_csv('company_stock.csv', index= False)"
   ]
  },
  {
   "cell_type": "code",
   "execution_count": null,
   "metadata": {},
   "outputs": [],
   "source": [
    "# Reveiw columns & Dis_category\n",
    "sp.Company_ticker.unique()\n",
    "print(list(company_stock))\n",
    "company_stock.Dis_category.unique()"
   ]
  },
  {
   "cell_type": "markdown",
   "metadata": {},
   "source": [
    "### Amy's Part Starts \n",
    "_______________________________________________________________________________________________________________________________"
   ]
  },
  {
   "cell_type": "code",
   "execution_count": null,
   "metadata": {},
   "outputs": [],
   "source": [
    "# Slice datas for useage: amy_sub, amy_sub_close, amy_sub_close_media, amy_sub_close_park & resotr\n",
    "\n",
    "amy_sub = company_stock.query(\"Dis_category != 'Studio_Entertainment'\").query(\"Dis_category != 'Consumer_Products_&_Interactive_Media'\")\n",
    "amy_sub_close = amy_sub[['Date', 'Close', 'Company_name', 'Dis_category']]\n",
    "amy_sub_close_media = amy_sub_close.query('Dis_category == \"Media_Networks\"')\n",
    "amy_sub_close_pr = amy_sub_close.query('Dis_category == \"Parks_and_Resorts\"')\n",
    "\n",
    "amy_sub_close_media.tail()"
   ]
  },
  {
   "cell_type": "code",
   "execution_count": null,
   "metadata": {
    "scrolled": true
   },
   "outputs": [],
   "source": [
    "# Select time range and replace NA with O\n",
    "amy_sub_close_media = amy_sub_close_media.pivot(index = 'Date', columns='Company_name', values = 'Close').ix['2010-01-01': '2010-10-24'].fillna(0)\n",
    "amy_sub_close_pr = amy_sub_close_pr.pivot(index = 'Date', columns='Company_name', values = 'Close').ix['2010-01-01': '2010-10-24'].fillna(0)"
   ]
  },
  {
   "cell_type": "code",
   "execution_count": null,
   "metadata": {},
   "outputs": [],
   "source": [
    "amy_sub_close_media.tail()"
   ]
  }
 ],
 "metadata": {
  "kernelspec": {
   "display_name": "Python 3",
   "language": "python",
   "name": "python3"
  },
  "language_info": {
   "codemirror_mode": {
    "name": "ipython",
    "version": 3
   },
   "file_extension": ".py",
   "mimetype": "text/x-python",
   "name": "python",
   "nbconvert_exporter": "python",
   "pygments_lexer": "ipython3",
   "version": "3.6.0"
  }
 },
 "nbformat": 4,
 "nbformat_minor": 2
}
